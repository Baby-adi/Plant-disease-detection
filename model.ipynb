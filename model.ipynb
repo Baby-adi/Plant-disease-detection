{
 "cells": [
  {
   "cell_type": "code",
   "execution_count": 5,
   "metadata": {},
   "outputs": [],
   "source": [
    "import numpy as np\n",
    "import os \n",
    "import pandas as pd\n",
    "import matplotlib.pyplot as plt\n",
    "import seaborn as sns\n",
    "import tensorflow as tf\n",
    "from tensorflow.keras.preprocessing.image import ImageDataGenerator\n",
    "from tensorflow.keras.applications import VGG16\n",
    "from tensorflow.keras.models import Sequential, load_model\n",
    "from tensorflow.keras.layers import Dense, Flatten, Dropout, BatchNormalization\n",
    "from tensorflow.keras.callbacks import EarlyStopping, ReduceLROnPlateau"
   ]
  },
  {
   "cell_type": "code",
   "execution_count": 6,
   "metadata": {},
   "outputs": [],
   "source": [
    "# script to resize the images present in the dataset\n",
    "# vgg16 model requires input images to be of size 224x224\n",
    "\n",
    "train_dir = \"Variant-a(Multiclass Classification)/train\"\n",
    "val_dir = \"Variant-a(Multiclass Classification)/val\"\n",
    "test_dir = \"Variant-a(Multiclass Classification)/test\"\n",
    "img_size = (224, 224)\n",
    "batch_size = 15\n",
    "\n",
    "saved_model_path = \"saved_model/vgg16_plant_disease.keras\""
   ]
  },
  {
   "cell_type": "code",
   "execution_count": 7,
   "metadata": {},
   "outputs": [
    {
     "name": "stdout",
     "output_type": "stream",
     "text": [
      "Found 3162 images belonging to 8 classes.\n",
      "Found 902 images belonging to 8 classes.\n",
      "Found 461 images belonging to 8 classes.\n",
      "Class Indices:  {'Early_blight': 0, 'Healthy': 1, 'Late_blight': 2, 'Leaf Miner': 3, 'Magnesium Deficiency': 4, 'Nitrogen Deficiency': 5, 'Pottassium Deficiency': 6, 'Spotted Wilt Virus': 7}\n"
     ]
    }
   ],
   "source": [
    "datagen = ImageDataGenerator(\n",
    "    rescale=1./255,\n",
    "    rotation_range=45,        \n",
    "    width_shift_range=0.5,     \n",
    "    height_shift_range=0.5,\n",
    "    shear_range=0.5,            \n",
    "    zoom_range=0.5,             \n",
    "    horizontal_flip=True,\n",
    "    vertical_flip=True,         \n",
    "    fill_mode='nearest'\n",
    ")\n",
    "\n",
    "val_test_datagen = ImageDataGenerator(rescale=1./255)\n",
    "\n",
    "train_generator = datagen.flow_from_directory(\n",
    "    train_dir,\n",
    "    target_size=img_size,\n",
    "    batch_size=batch_size,\n",
    "    class_mode='categorical'\n",
    ")\n",
    "\n",
    "val_generator = datagen.flow_from_directory(\n",
    "    val_dir,\n",
    "    target_size=img_size,\n",
    "    batch_size=batch_size,\n",
    "    class_mode='categorical'\n",
    ")\n",
    "\n",
    "test_generator = datagen.flow_from_directory(\n",
    "    test_dir,\n",
    "    target_size=img_size,\n",
    "    batch_size=batch_size,\n",
    "    class_mode='categorical',\n",
    "    shuffle=False\n",
    ")\n",
    "\n",
    "# Check class indices\n",
    "print(\"Class Indices: \", train_generator.class_indices)"
   ]
  },
  {
   "cell_type": "code",
   "execution_count": null,
   "metadata": {},
   "outputs": [],
   "source": [
    "if os.path.exists(saved_model_path):\n",
    "    print(\"Loading the pre-trained model...\")\n",
    "    model = load_model(saved_model_path)\n",
    "else:\n",
    "    print(\"Training the model...\")\n",
    "    base_model = VGG16(weights=\"imagenet\", include_top=False, input_shape=(224, 224, 3))\n",
    "    for layer in base_model.layers[:15]:  # freeze the first 15 layers\n",
    "        layer.trainable = False\n",
    "\n",
    "    for layer in base_model.layers[15:]:  # nnfreeze the rest\n",
    "        layer.trainable = True\n",
    "    \n",
    "    model = Sequential([\n",
    "        base_model,\n",
    "        Flatten(),\n",
    "        Dense(256, activation=\"relu\"),\n",
    "        BatchNormalization(),       \n",
    "        Dropout(0.5),               \n",
    "        Dense(128, activation=\"relu\"),\n",
    "        BatchNormalization(),    \n",
    "        Dense(train_generator.num_classes, activation=\"softmax\")\n",
    "    ])\n",
    "    \n",
    "    model.compile(optimizer=tf.keras.optimizers.Adam(learning_rate=0.0001), loss=\"categorical_crossentropy\", metrics=[\"accuracy\"])\n",
    "    \n",
    "    early_stop = EarlyStopping(\n",
    "        monitor=\"val_loss\",\n",
    "        patience=7,\n",
    "        restore_best_weights=True\n",
    "    )\n",
    "    reduce_lr = ReduceLROnPlateau(\n",
    "        monitor='val_loss',\n",
    "        factor=0.5, \n",
    "        patience=3, \n",
    "        min_lr=1e-6, \n",
    "        verbose=1\n",
    "    )\n",
    "    \n",
    "    #steps_per_epoch = train_generator.samples // train_generator.batch_size\n",
    "    #validation_steps = val_generator.samples // val_generator.batch_size\n",
    "    \n",
    "    #train \n",
    "    history = model.fit(\n",
    "    train_generator,\n",
    "    validation_data=val_generator,\n",
    "    epochs=25,\n",
    "    callbacks=[early_stop, reduce_lr],\n",
    "    verbose=1\n",
    "    )\n",
    "    \n",
    "    #save \n",
    "    print(\"Saving the model...\")\n",
    "    model.save(saved_model_path)"
   ]
  },
  {
   "cell_type": "code",
   "execution_count": 5,
   "metadata": {},
   "outputs": [],
   "source": [
    "print(\"Evaluating the model...\")\n",
    "test_loss, test_accuracy = model.evaluate(test_generator)\n",
    "print(f\"Test Accuracy: {test_accuracy:.4f}\")"
   ]
  },
  {
   "cell_type": "code",
   "execution_count": null,
   "metadata": {},
   "outputs": [],
   "source": [
    "plt.figure(figsize=(12, 6))\n",
    "plt.subplot(1, 2, 1)\n",
    "plt.plot(history.history['accuracy'], label='Train Accuracy')\n",
    "plt.plot(history.history['val_accuracy'], label='Val Accuracy')\n",
    "plt.legend()\n",
    "plt.title(\"Accuracy\")\n",
    "\n",
    "plt.subplot(1, 2, 2)\n",
    "plt.plot(history.history['loss'], label='Train Loss')\n",
    "plt.plot(history.history['val_loss'], label='Val Loss')\n",
    "plt.legend()\n",
    "plt.title(\"Loss\")\n",
    "plt.show()"
   ]
  },
  {
   "cell_type": "code",
   "execution_count": null,
   "metadata": {},
   "outputs": [],
   "source": [
    "#load model with load_model()"
   ]
  }
 ],
 "metadata": {
  "kernelspec": {
   "display_name": "Python 3",
   "language": "python",
   "name": "python3"
  },
  "language_info": {
   "codemirror_mode": {
    "name": "ipython",
    "version": 3
   },
   "file_extension": ".py",
   "mimetype": "text/x-python",
   "name": "python",
   "nbconvert_exporter": "python",
   "pygments_lexer": "ipython3",
   "version": "3.12.5"
  }
 },
 "nbformat": 4,
 "nbformat_minor": 2
}
