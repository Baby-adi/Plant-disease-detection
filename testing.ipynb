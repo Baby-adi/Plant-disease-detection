{
 "cells": [
  {
   "cell_type": "code",
   "execution_count": 1,
   "metadata": {},
   "outputs": [
    {
     "name": "stdout",
     "output_type": "stream",
     "text": [
      "Found 3140 images belonging to 8 classes.\n",
      "Class labels saved to class_labels.json\n"
     ]
    }
   ],
   "source": [
    "#instead of training the model again\n",
    "\n",
    "from tensorflow.keras.preprocessing.image import ImageDataGenerator\n",
    "import json\n",
    "import os\n",
    "\n",
    "# Path to the dataset\n",
    "dataset_path = \"Variant-a(Multiclass classification)\"\n",
    "train_path = os.path.join(dataset_path, \"train\")\n",
    "\n",
    "# Create an ImageDataGenerator just for loading the class labels\n",
    "train_datagen = ImageDataGenerator()\n",
    "\n",
    "# Reload the train generator to access the class indices\n",
    "train_generator = train_datagen.flow_from_directory(\n",
    "    train_path,\n",
    "    target_size=(224, 224),\n",
    "    batch_size=32,\n",
    "    class_mode='categorical',\n",
    "    shuffle=False  # shuffle=False to avoid any changes to the data order\n",
    ")\n",
    "\n",
    "# Save the class indices to a JSON file\n",
    "class_indices = train_generator.class_indices  # Get class-to-index mapping\n",
    "with open('class_labels.json', 'w') as json_file:\n",
    "    json.dump(class_indices, json_file)\n",
    "\n",
    "print(\"Class labels saved to class_labels.json\")\n"
   ]
  },
  {
   "cell_type": "code",
   "execution_count": 14,
   "metadata": {},
   "outputs": [
    {
     "name": "stdout",
     "output_type": "stream",
     "text": [
      "The plant is infected with: Leaf Miner.\n"
     ]
    }
   ],
   "source": [
    "from tensorflow.keras.preprocessing import image\n",
    "import numpy as np\n",
    "import tensorflow as tf\n",
    "from tensorflow.keras.models import load_model\n",
    "from tensorflow.keras.applications.vgg16 import preprocess_input\n",
    "import json\n",
    "\n",
    "#loading trained model\n",
    "model = load_model('final_model.keras')\n",
    "\n",
    "#load the class labels from the JSON file\n",
    "with open('class_labels.json', 'r') as json_file:\n",
    "    class_labels = json.load(json_file)\n",
    "\n",
    "#create a reverse mapping of indices to class names\n",
    "class_labels = {v: k for k, v in class_labels.items()}\n",
    "\n",
    "def preprocess_image(img_path):\n",
    "    img = image.load_img(img_path, target_size=(224, 224))\n",
    "    img_array = image.img_to_array(img)\n",
    "    img_array = np.expand_dims(img_array, axis=0)\n",
    "    img_array = preprocess_input(img_array)\n",
    "    return img_array\n",
    "\n",
    "# Function to make predictions, wrapped in tf.function for efficiency\n",
    "@tf.function\n",
    "def make_prediction(img_array):\n",
    "    return model(img_array, training=False)\n",
    "\n",
    "# Path to the custom image (use raw string)\n",
    "img_path = r\"C:\\Users\\adity\\Desktop\\ADISMRITI\\for testing model\\healthy 3.jpg\"\n",
    "\n",
    "img_array = preprocess_image(img_path)\n",
    "\n",
    "prediction = make_prediction(img_array)\n",
    "predicted_class_index = np.argmax(prediction, axis=1)[0]\n",
    "\n",
    "\n",
    "predicted_class = class_labels[predicted_class_index]\n",
    "\n",
    "if predicted_class.lower() == 'healthy':\n",
    "    print(\"The plant is healthy.\")\n",
    "else:\n",
    "    print(f\"The plant is infected with: {predicted_class}.\")\n"
   ]
  }
 ],
 "metadata": {
  "kernelspec": {
   "display_name": "Python 3",
   "language": "python",
   "name": "python3"
  },
  "language_info": {
   "codemirror_mode": {
    "name": "ipython",
    "version": 3
   },
   "file_extension": ".py",
   "mimetype": "text/x-python",
   "name": "python",
   "nbconvert_exporter": "python",
   "pygments_lexer": "ipython3",
   "version": "3.12.5"
  }
 },
 "nbformat": 4,
 "nbformat_minor": 2
}
